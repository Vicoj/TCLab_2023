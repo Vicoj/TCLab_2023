{
 "cells": [
  {
   "cell_type": "markdown",
   "metadata": {},
   "source": [
    "# Functions du programme Open Loop sans FeedForward"
   ]
  },
  {
   "cell_type": "markdown",
   "metadata": {},
   "source": [
    "## 1. Import"
   ]
  },
  {
   "cell_type": "code",
   "execution_count": 1,
   "metadata": {},
   "outputs": [],
   "source": [
    "from signal import signal\n",
    "from tokenize import Single\n",
    "import numpy as np\n",
    "from scipy.optimize import minimize\n",
    "from matplotlib import colors as mcolors\n",
    "\n",
    "%matplotlib qt\n",
    "import matplotlib.pyplot as plt\n",
    "\n",
    "from matplotlib.widgets import Slider, Button, RadioButtons,TextBox,CheckButtons\n",
    "import matplotlib.patches as mpatches\n",
    "import datetime\n",
    "import os\n",
    "import tclab\n",
    "import time\n",
    "\n",
    "from xmlrpc.client import Boolean\n",
    "import numpy as np\n",
    "\n",
    "from IPython.display import display, clear_output\n",
    "\n",
    "import package_Class\n",
    "from package_Class import Simulation,Path,FirstOrder,SecondOrderPlusDelay,LeadLag,FeedForward,PID_Controller,Delay,Signal,Variable,Graph,LabValues"
   ]
  },
  {
   "cell_type": "markdown",
   "metadata": {},
   "source": [
    "## 2. Création Instance Classes\n"
   ]
  },
  {
   "cell_type": "code",
   "execution_count": 2,
   "metadata": {},
   "outputs": [
    {
     "name": "stderr",
     "output_type": "stream",
     "text": [
      " [elapsed time: 0:00:00] |                                  | (ETA:  --:--:--) "
     ]
    }
   ],
   "source": [
    "SIM = Simulation(2000,1,20,True,'Exp_CLP_FF_IMC')\n",
    "\n",
    "G = Graph(SIM,'PID Control_')\n",
    "\n",
    "SP = Path(SIM,{0:40 , 1000:60 , SIM.TSim: 60})\n",
    "DV = Path(SIM,{0:30 , 500: 30 , 1500:50 ,SIM.TSim: 50})\n",
    "MAN = Path(SIM,{0:1 ,250: 0, SIM.TSim: 0})\n",
    "MANV = Path(SIM,{0: 50, SIM.TSim: 30})\n",
    "\n",
    "P = FirstOrder(SIM,0.6576982674557728,201.32536449625266,1,50,SIM.PVInit)\n",
    "D = FirstOrder(SIM,0.4022800628236135,151.76786567122514,28.926501641455957,50,0)\n",
    "\n",
    "P_delay = Delay(SIM,P.Theta)\n",
    "D_delay = Delay(SIM,D.Theta)\n",
    "\n",
    "\n",
    "FF = FeedForward(SIM,P,D,True)\n",
    "\n",
    "PID = PID_Controller(SIM,50,1,5,0.14,[0,100],False,False)\n",
    "PID.IMC_tuning(P,0.5,'G')"
   ]
  },
  {
   "cell_type": "markdown",
   "metadata": {},
   "source": [
    "## 5. Affichage du graph des signaux et bode\n",
    "\n",
    "Marche pas bien dans kernel -> MathPlotLib Ram (Fermer Alt F4 pas bouton close)"
   ]
  },
  {
   "cell_type": "code",
   "execution_count": 3,
   "metadata": {},
   "outputs": [],
   "source": [
    "G.Bode(P,PID,'PID')"
   ]
  },
  {
   "cell_type": "code",
   "execution_count": 4,
   "metadata": {},
   "outputs": [],
   "source": [
    "#G.Bode(P,PID,'P')"
   ]
  }
 ],
 "metadata": {
  "kernelspec": {
   "display_name": "Python 3.9.12 ('ControlLab')",
   "language": "python",
   "name": "python3"
  },
  "language_info": {
   "codemirror_mode": {
    "name": "ipython",
    "version": 3
   },
   "file_extension": ".py",
   "mimetype": "text/x-python",
   "name": "python",
   "nbconvert_exporter": "python",
   "pygments_lexer": "ipython3",
   "version": "3.9.12"
  },
  "orig_nbformat": 4,
  "vscode": {
   "interpreter": {
    "hash": "964f11a672dc231cf3d6afa8cfcc09fb72271803c34cc5ffba27a39f69ef0c50"
   }
  }
 },
 "nbformat": 4,
 "nbformat_minor": 2
}
