{
 "cells": [
  {
   "cell_type": "markdown",
   "metadata": {},
   "source": [
    "# Functions du programme Open Loop sans FeedForward"
   ]
  },
  {
   "cell_type": "markdown",
   "metadata": {},
   "source": [
    "## 1. Import"
   ]
  },
  {
   "cell_type": "code",
   "execution_count": 1,
   "metadata": {},
   "outputs": [],
   "source": [
    "from signal import signal\n",
    "from tokenize import Single\n",
    "import numpy as np\n",
    "from scipy.optimize import minimize\n",
    "from matplotlib import colors as mcolors\n",
    "\n",
    "%matplotlib qt\n",
    "import matplotlib.pyplot as plt\n",
    "\n",
    "from matplotlib.widgets import Slider, Button, RadioButtons,TextBox,CheckButtons\n",
    "import matplotlib.patches as mpatches\n",
    "import datetime\n",
    "import os\n",
    "import tclab\n",
    "import time\n",
    "\n",
    "from xmlrpc.client import Boolean\n",
    "import numpy as np\n",
    "\n",
    "from IPython.display import display, clear_output\n",
    "\n",
    "import package_Class\n",
    "from package_Class import Simulation,Path,FirstOrder,SecondOrderPlusDelay,LeadLag,FeedForward,PID_Controller,Delay,Signal,Variable,Graph,LabValues"
   ]
  },
  {
   "cell_type": "markdown",
   "metadata": {},
   "source": [
    "## 2. Création Instance Classes\n"
   ]
  },
  {
   "cell_type": "code",
   "execution_count": 2,
   "metadata": {},
   "outputs": [
    {
     "name": "stderr",
     "output_type": "stream",
     "text": [
      " [elapsed time: 0:00:00] |                                  | (ETA:  --:--:--)\n"
     ]
    }
   ],
   "source": [
    "SIM = Simulation(2000,1,26,True,'Simulation_CLP_FF_IMC')\n",
    "\n",
    "G = Graph(SIM,'PID Control_')\n",
    "\n",
    "SP = Path(SIM,{0: 50, SIM.TSim: 50})\n",
    "DV = Path(SIM,{0: 50, 800 : 40, 1400 : 60, SIM.TSim: 60})\n",
    "MAN = Path(SIM,{0: 0, SIM.TSim: 0})\n",
    "MANV = Path(SIM,{0: 50, SIM.TSim: 50})\n",
    "\n",
    "P = FirstOrder(SIM,0.6522434279003099,245.9823790885576,0.649693920059717,50,SIM.PVInit)\n",
    "D = FirstOrder(SIM,0.6156105636473335,387.0591022229922, 5.419428855220769,50,0)\n",
    "\n",
    "FF = FeedForward(SIM,P,D,True)\n",
    "\n",
    "PID = PID_Controller(SIM,1.69,141,5,2,0,100,False,True)\n",
    "PID.IMC_tuning(P,0.4,'H')"
   ]
  },
  {
   "cell_type": "markdown",
   "metadata": {},
   "source": [
    "## 3. Boucle pour une simulation / Experience\n",
    "Si la variable SIM.sim de la simulation est vrais.\n",
    "Class.RT calcule les valeurs du bloc en instantanée"
   ]
  },
  {
   "cell_type": "code",
   "execution_count": 3,
   "metadata": {},
   "outputs": [
    {
     "name": "stderr",
     "output_type": "stream",
     "text": [
      " [elapsed time: 0:00:00] |                                  | (ETA:  --:--:--)\n",
      " [elapsed time: 0:00:00] |████████                          | (ETA:   0:00:00)\n",
      " [elapsed time: 0:00:00] |████████████                      | (ETA:   0:00:00)\n",
      " [elapsed time: 0:00:00] |████████████████                  | (ETA:   0:00:00)\n",
      " [elapsed time: 0:00:00] |███████████████████               | (ETA:   0:00:00)\n",
      " [elapsed time: 0:00:00] |██████████████████████            | (ETA:   0:00:00)\n",
      " [elapsed time: 0:00:00] |█████████████████████████         | (ETA:   0:00:00)\n",
      " [elapsed time: 0:00:00] |███████████████████████████       | (ETA:   0:00:00)\n",
      " [elapsed time: 0:00:00] |█████████████████████████████     | (ETA:   0:00:00)\n",
      " [elapsed time: 0:00:00] |███████████████████████████████   | (ETA:   0:00:00)\n"
     ]
    }
   ],
   "source": [
    "if(SIM.sim == True):\n",
    "    t = []\n",
    "    for ti in SIM.t:\n",
    "        t.append(ti)\n",
    "        #Signals\n",
    "        SP.RT(t)\n",
    "        DV.RT(t)\n",
    "        MAN.RT(t)\n",
    "        MANV.RT(t)\n",
    "\n",
    "        FF.RT(DV.Signal) # FeedForward\n",
    "        PID.RT(SP.Signal,SIM.PV,MAN.Signal,MANV.Signal,FF.MVFF,'EBD-EBD')\n",
    "\n",
    "        SIM.addMV(PID.MVFB,FF.MVFF) # Modified Value\n",
    "\n",
    "        P.RT(SIM.MV,'EBD')\n",
    "        D.RT(DV.Signal,'EBD')\n",
    "        SIM.PV.append(P.PV[-1]+D.PV[-1]) # Point Value\n",
    "        SIM.updateBar()\n"
   ]
  },
  {
   "cell_type": "markdown",
   "metadata": {},
   "source": [
    "Si la variable SIM.sim de la simulation est fausse alors ouvre la connection TcLab "
   ]
  },
  {
   "cell_type": "code",
   "execution_count": 4,
   "metadata": {},
   "outputs": [],
   "source": [
    "if(SIM.sim == False):\n",
    "    #Tc Lab\n",
    "    LAB = tclab.TCLab()\n",
    "    LABVal = LabValues(SIM,LAB)\n",
    "\n",
    "    SIM.t = []\n",
    "    start = time.time()\n",
    "    delta = 0\n",
    "    totalTime = 0\n",
    "    last = time.time()\n",
    "\n",
    "    while totalTime < SIM.TSim:\n",
    "        if delta > SIM.Ts:\n",
    "            last = time.time()\n",
    "            SIM.t.append(round(totalTime,4))\n",
    "            #Signals\n",
    "            SP.RT(SIM.t)\n",
    "            DV.RT(SIM.t)\n",
    "            MAN.RT(SIM.t)\n",
    "            MANV.RT(SIM.t)\n",
    "\n",
    "            FF.RT(DV.Signal) # FeedForward\n",
    "            PID.RT(SP.Signal,SIM.PV,MAN.Signal,MANV.Signal,FF.MVFF,'EBD-EBD')\n",
    "\n",
    "            SIM.addMV(PID.MVFB,FF.MVFF) # Modified Value\n",
    "\n",
    "            LABVal.RT(SIM.MV,DV.Signal,D.point_fct)\n",
    "            delta = 0\n",
    "            SIM.updateBar()\n",
    "\n",
    "        else :\n",
    "            totalTime = time.time() - start\n",
    "            delta = time.time() - last\n",
    "    LAB.close()\n",
    "        "
   ]
  },
  {
   "cell_type": "markdown",
   "metadata": {},
   "source": [
    "## 4. On cree des liste d'instances Signal que l'on veux afficher \n",
    "Il suffit de mettre en commentaire ou rajouter pour les afficher"
   ]
  },
  {
   "cell_type": "code",
   "execution_count": 5,
   "metadata": {},
   "outputs": [],
   "source": [
    "# Signaux Afficher dans  Graph Binaires\n",
    "SigValsBin = [\n",
    "    Signal(MAN.Signal,'Manual Mode','-g')\n",
    "]\n",
    "\n",
    "# Signaux Afficher dans  Graph 1 : Temperature\n",
    "SigVals1 = [\n",
    "    Signal(SP.Signal,'SP','-r'),\n",
    "    Signal(SIM.PV,'PV','-b'),\n",
    "    #Signal(P.PV,'P(s)','--b'),\n",
    "    #Signal(D.PV,'D(s)','--k'),\n",
    "]\n",
    "\n",
    "# Signaux Afficher dans Graph 2 : % de chauffe\n",
    "SigVals2 = [\n",
    "    Signal(SIM.MV,'MV','-b'),\n",
    "    Signal(DV.Signal,'DV','-k'),\n",
    "    #Signal(MANV.Signal,'MANVal','-m'),\n",
    "    #Signal(FF.MVFF,'MVFF','-g'),\n",
    "    #Signal(PID.MVFB,'MVFB','-y'),\n",
    "    #Signal(PID.E,'E',':r'),\n",
    "    Signal(PID.MVP,'MVP',':g'),\n",
    "    Signal(PID.MVI,'MVI',':y'),\n",
    "    Signal(PID.MVD,'MVD',':m'),\n",
    "    #Signal(DV.Signal,'DV','-k'),\n",
    "]\n",
    "\n",
    "# Signaux enregistrer dans le .txt\n",
    "SigSave = [\n",
    "    Signal(SIM.MV,'MV','-b'),\n",
    "    Signal(PID.MVP,'MVP',':b'),\n",
    "    Signal(PID.MVI,'MVI',':y'),\n",
    "    Signal(PID.MVD,'MVD',':m'),\n",
    "    Signal(SP.Signal,'SP',':m'),\n",
    "    Signal(SIM.PV,'PV',':m'),\n",
    "    Signal(DV.Signal,'DV','-k'),\n",
    "    Signal(MAN.Signal,'Man','-k'),\n",
    "]\n",
    "\n",
    "# Variables affichées sur le graph\n",
    "varVals = [\n",
    "    Variable(SIM.TSim,'Temps Sim [s]'),\n",
    "    Variable(SIM.Ts,'Sampling [s]'),\n",
    "    Variable(SIM.PVInit,'Pv Init [°C]'),\n",
    "\n",
    "    Variable(PID.OLP,'Open Loop'),\n",
    "    Variable(PID.ManFF,'Man FF'),\n",
    "\n",
    "\n",
    "    Variable(PID.Kc,'Kc PID'),\n",
    "    Variable(PID.Td,'Td PID'),\n",
    "    Variable(PID.Ti,'Ti PID'),\n",
    "    Variable(PID.gamma,'Gamma IMC'),\n",
    "\n",
    "    Variable(FF.active,'FF Enabled'),\n",
    "    Variable(FF.T1p,'TLead P(s)'),\n",
    "    Variable(FF.T2p,'TLag P(s)'),\n",
    "    Variable(FF.T1d,'TLead D(s)'),\n",
    "    Variable(FF.T2d,'TLag D(s)'),\n",
    "\n",
    "]"
   ]
  },
  {
   "cell_type": "markdown",
   "metadata": {},
   "source": [
    "## 5. Affichage du graph des signaux et bode\n",
    "\n",
    "Marche pas bien dans kernel -> MathPlotLib Ram (Fermer Alt F4 pas bouton close)"
   ]
  },
  {
   "cell_type": "code",
   "execution_count": 9,
   "metadata": {},
   "outputs": [],
   "source": [
    "G.show([SigVals1,SigVals2,SigSave],SigValsBin,varVals)"
   ]
  },
  {
   "cell_type": "code",
   "execution_count": 7,
   "metadata": {},
   "outputs": [],
   "source": [
    "#G.Bode(P,PID,'PID')"
   ]
  },
  {
   "cell_type": "code",
   "execution_count": 8,
   "metadata": {},
   "outputs": [],
   "source": [
    "#G.Bode(P,PID,'P')"
   ]
  }
 ],
 "metadata": {
  "interpreter": {
   "hash": "5a8c67a73ccdc120e5e463efb8145cec371c3ea070b346be1e3c5cd19869289b"
  },
  "kernelspec": {
   "display_name": "Python 3.9.7 ('base')",
   "language": "python",
   "name": "python3"
  },
  "language_info": {
   "codemirror_mode": {
    "name": "ipython",
    "version": 3
   },
   "file_extension": ".py",
   "mimetype": "text/x-python",
   "name": "python",
   "nbconvert_exporter": "python",
   "pygments_lexer": "ipython3",
   "version": "3.9.7"
  },
  "orig_nbformat": 4
 },
 "nbformat": 4,
 "nbformat_minor": 2
}
