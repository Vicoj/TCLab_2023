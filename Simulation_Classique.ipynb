{
 "cells": [
  {
   "attachments": {},
   "cell_type": "markdown",
   "metadata": {},
   "source": [
    "# Simulation"
   ]
  },
  {
   "attachments": {},
   "cell_type": "markdown",
   "metadata": {},
   "source": [
    "## Import libs"
   ]
  },
  {
   "cell_type": "code",
   "execution_count": null,
   "metadata": {},
   "outputs": [],
   "source": [
    "import numpy as np\n",
    "import matplotlib.pyplot as plt\n",
    "from scipy.optimize import minimize\n",
    "from matplotlib import colors as mcolors\n",
    "\n",
    "import package_DBR\n",
    "from package_DBR import SelectPath_RT,Delay_RT\n",
    "\n",
    "import package_LAB2\n",
    "from package_LAB2 import SelectPath_RT,Delay_RT,Leadlag,PID_RT, IMC_TUNNING\n",
    "\n",
    "from importlib import reload\n",
    "package_DBR=reload(package_DBR)\n",
    "package_LAB2=reload(package_LAB2)"
   ]
  },
  {
   "attachments": {},
   "cell_type": "markdown",
   "metadata": {},
   "source": [
    "## Simulations parametres"
   ]
  },
  {
   "cell_type": "code",
   "execution_count": null,
   "metadata": {},
   "outputs": [],
   "source": [
    "TSim = 2200\n",
    "Ts = 1.0\n",
    "\n",
    "# Initial working points \n",
    "MV0 = 50\n",
    "DV0 = 50\n",
    "PV0 = 75\n",
    "\n",
    "\"\"\"\n",
    "# Paths\n",
    "SPPath = {0: 75, 800: 65}\n",
    "DVPath = {0: DV0, 1500: DV0+5}\n",
    "manPath = {0: True, 750 : False, TSim: False}\n",
    "manMVPath = {0: MV0, TSim: MV0}\n",
    "\"\"\"\n",
    "\n",
    "# Parameters for input-output dynamics\n",
    "Kp = 0.52\n",
    "T1p = 130.73\n",
    "T2p = 5.24\n",
    "Thetap = 6.13\n",
    "\n",
    "# G & H, voir A\n",
    "\n",
    "# Parameters for disturbance dynamics\n",
    "Kd = 0.29\n",
    "T1d = 127.9\n",
    "T2d = 21.8\n",
    "Thetad = 12.4\n",
    "\n",
    "# Parameters for the PID controller \n",
    "alpha = 0.5\n",
    "gamma = 0.4\n",
    "Tc = gamma * T1p\n",
    "discretisation = [\"TRAP\", \"TRAP\"]"
   ]
  }
 ],
 "metadata": {
  "language_info": {
   "name": "python"
  },
  "orig_nbformat": 4
 },
 "nbformat": 4,
 "nbformat_minor": 2
}
