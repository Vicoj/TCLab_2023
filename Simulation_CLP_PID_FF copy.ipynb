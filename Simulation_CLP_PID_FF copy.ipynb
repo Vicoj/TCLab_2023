{
 "cells": [
  {
   "cell_type": "markdown",
   "metadata": {},
   "source": [
    "# Functions du programme Open Loop sans FeedForward"
   ]
  },
  {
   "cell_type": "markdown",
   "metadata": {},
   "source": [
    "## 1. Import"
   ]
  },
  {
   "cell_type": "code",
   "execution_count": 65,
   "metadata": {},
   "outputs": [],
   "source": [
    "from signal import signal\n",
    "from tokenize import Single\n",
    "import numpy as np\n",
    "from scipy.optimize import minimize\n",
    "from matplotlib import colors as mcolors\n",
    "\n",
    "%matplotlib qt\n",
    "import matplotlib.pyplot as plt\n",
    "\n",
    "from matplotlib.widgets import Slider, Button, RadioButtons,TextBox,CheckButtons\n",
    "import matplotlib.patches as mpatches\n",
    "import datetime\n",
    "import os\n",
    "import tclab\n",
    "import time\n",
    "\n",
    "from xmlrpc.client import Boolean\n",
    "import numpy as np\n",
    "\n",
    "from IPython.display import display, clear_output\n",
    "\n",
    "import package_Class\n",
    "from package_Class import Simulation,Path,FirstOrder,SecondOrderPlusDelay,LeadLag,FeedForward,PID_Controller,Delay,Signal,Variable,Graph,LabValues"
   ]
  },
  {
   "cell_type": "markdown",
   "metadata": {},
   "source": [
    "## 2. Création Instance Classes\n"
   ]
  },
  {
   "cell_type": "code",
   "execution_count": 66,
   "metadata": {},
   "outputs": [
    {
     "name": "stderr",
     "output_type": "stream",
     "text": [
      " [elapsed time: 0:00:00] |                                  | (ETA:  --:--:--) "
     ]
    }
   ],
   "source": [
    "SIM = Simulation(2000,1,20,True,'Exp_CLP_FF_IMC')\n",
    "\n",
    "G = Graph(SIM,'PID Control_')\n",
    "\n",
    "SP = Path(SIM,{0:40 , 1000:60 , SIM.TSim: 60})\n",
    "DV = Path(SIM,{0:30 , 500: 30 , 1500:50 ,SIM.TSim: 50})\n",
    "MAN = Path(SIM,{0:1 ,250: 0, SIM.TSim: 0})\n",
    "MANV = Path(SIM,{0: 50, SIM.TSim: 30})\n",
    "\n",
    "P = FirstOrder(SIM,0.6576982674557728,201.32536449625266,1,50,SIM.PVInit)\n",
    "D = FirstOrder(SIM,0.4022800628236135,151.76786567122514,28.926501641455957,50,0)\n",
    "\n",
    "P_delay = Delay(SIM,P.Theta)\n",
    "D_delay = Delay(SIM,D.Theta)\n",
    "\n",
    "\n",
    "FF = FeedForward(SIM,P,D,True)\n",
    "\n",
    "PID = PID_Controller(SIM,5,10,0,0.14,[0,100],False,False)\n",
    "PID.IMC_tuning(P,0.5,'G')"
   ]
  },
  {
   "cell_type": "code",
   "execution_count": null,
   "metadata": {},
   "outputs": [],
   "source": []
  },
  {
   "cell_type": "markdown",
   "metadata": {},
   "source": [
    "## 3. Boucle pour une simulation / Experience\n",
    "Si la variable SIM.sim de la simulation est vrais.\n",
    "Class.RT calcule les valeurs du bloc en instantanée"
   ]
  },
  {
   "cell_type": "code",
   "execution_count": 67,
   "metadata": {},
   "outputs": [],
   "source": [
    "if(SIM.sim == True):\n",
    "    t = []\n",
    "    for ti in SIM.t:\n",
    "        t.append(ti)\n",
    "        #Signals\n",
    "        SP.RT(t)\n",
    "        DV.RT(t)\n",
    "        MAN.RT(t)\n",
    "        MANV.RT(t)\n",
    "\n",
    "        FF.RT(DV.Signal) # FeedForward\n",
    "        PID.RT(SP.Signal,SIM.PV,MAN.Signal,MANV.Signal,FF.MVFF,'EBD-EBD')\n",
    "\n",
    "        SIM.addMV(PID.MVFB,FF.MVFF) # Modified Value\n",
    "\n",
    "        P_delay.RT(SIM.MV)\n",
    "        D_delay.RT(DV.Signal)\n",
    "        \n",
    "        P.RT(P_delay.PV,'EBD')\n",
    "        D.RT(D_delay.PV,'EBD')\n",
    "        \n",
    "        SIM.PV.append(P.PV[-1]+D.PV[-1]) # Point Value\n",
    "        SIM.updateBar()\n"
   ]
  },
  {
   "cell_type": "markdown",
   "metadata": {},
   "source": [
    "Si la variable SIM.sim de la simulation est fausse alors ouvre la connection TcLab "
   ]
  },
  {
   "cell_type": "code",
   "execution_count": 68,
   "metadata": {},
   "outputs": [
    {
     "name": "stdout",
     "output_type": "stream",
     "text": [
      "TCLab version 0.4.9\n",
      "Arduino Leonardo connected on port COM4 at 115200 baud.\n",
      "TCLab Firmware 1.4.3 Arduino Leonardo/Micro.\n"
     ]
    },
    {
     "name": "stderr",
     "output_type": "stream",
     "text": [
      " [elapsed time: 0:33:24] |█████████████████████████████████ | (ETA:   0:00:01) "
     ]
    },
    {
     "name": "stdout",
     "output_type": "stream",
     "text": [
      "TCLab disconnected successfully.\n"
     ]
    }
   ],
   "source": [
    "if(SIM.sim == False):\n",
    "    #Tc Lab\n",
    "    LAB = tclab.TCLab()\n",
    "    LABVal = LabValues(SIM,LAB)\n",
    "\n",
    "    SIM.t = []\n",
    "    start = time.time()\n",
    "    delta = 0\n",
    "    totalTime = 0\n",
    "    last = time.time()\n",
    "\n",
    "    while totalTime < SIM.TSim:\n",
    "        if delta > SIM.Ts:\n",
    "            last = time.time()\n",
    "            SIM.t.append(round(totalTime,4))\n",
    "            #Signals\n",
    "            SP.RT(SIM.t)\n",
    "            DV.RT(SIM.t)\n",
    "            MAN.RT(SIM.t)\n",
    "            MANV.RT(SIM.t)\n",
    "\n",
    "            FF.RT(DV.Signal) # FeedForward\n",
    "            PID.RT(SP.Signal,SIM.PV,MAN.Signal,MANV.Signal,FF.MVFF,'EBD-EBD')\n",
    "\n",
    "            SIM.addMV(PID.MVFB,FF.MVFF) # Modified Value\n",
    "\n",
    "            LABVal.RT(SIM.MV,DV.Signal,D.point_fct)\n",
    "            delta = 0\n",
    "            SIM.updateBar()\n",
    "\n",
    "        else :\n",
    "            totalTime = time.time() - start\n",
    "            delta = time.time() - last\n",
    "    LAB.close()\n",
    "        "
   ]
  },
  {
   "cell_type": "markdown",
   "metadata": {},
   "source": [
    "## 4. On cree des liste d'instances Signal que l'on veux afficher \n",
    "Il suffit de mettre en commentaire ou rajouter pour les afficher"
   ]
  },
  {
   "cell_type": "code",
   "execution_count": 71,
   "metadata": {},
   "outputs": [],
   "source": [
    "# Signaux Afficher dans  Graph Binaires\n",
    "SigValsBin = [\n",
    "    Signal(MAN.Signal,'Manual Mode','-g')\n",
    "]\n",
    "\n",
    "# Signaux Afficher dans  Graph 1 : Temperature\n",
    "SigVals1 = [\n",
    "    Signal(SP.Signal,'SP','-r'),\n",
    "    Signal(SIM.PV,'PV','-b'),\n",
    "    Signal(P.PV,'P(s)','--b'),\n",
    "    Signal(D.PV,'D(s)','--k'),\n",
    "\n",
    "]\n",
    "\n",
    "# Signaux Afficher dans Graph 2 : % de chauffe\n",
    "SigVals2 = [\n",
    "    \n",
    "    Signal(SIM.MV,'MV','-b'),\n",
    "    Signal(DV.Signal,'DV','-k'),\n",
    "    #Signal(MANV.Signal,'MANVal','-m'),\n",
    "    Signal(FF.MVFF,'MVFF','-g'),\n",
    "    Signal(PID.MVFB,'MVFB','-y'),\n",
    "    #Signal(PID.E,'E',':r'),\n",
    "    #Signal(PID.MVP,'MVP',':g'),\n",
    "    #Signal(PID.MVI,'MVI',':y'),\n",
    "    #Signal(PID.MVD,'MVD',':m'),\n",
    "    #Signal(DV.Signal,'DV','-k'),\n",
    "]\n",
    "\n",
    "# Signaux enregistrer dans le .txt\n",
    "SigSave = [\n",
    "    Signal(SIM.MV,'MV','-b'),\n",
    "    Signal(PID.MVP,'MVP',':b'),\n",
    "    Signal(PID.MVI,'MVI',':y'),\n",
    "    Signal(PID.MVD,'MVD',':m'),\n",
    "    Signal(SP.Signal,'SP',':m'),\n",
    "    Signal(SIM.PV,'PV',':m'),\n",
    "    Signal(DV.Signal,'DV','-k'),\n",
    "    Signal(MAN.Signal,'Man','-k'),\n",
    "]\n",
    "\n",
    "# Variables affichées sur le graph\n",
    "varVals = [\n",
    "    Variable(SIM.TSim,'Temps Sim [s]'),\n",
    "    Variable(SIM.Ts,'Sampling [s]'),\n",
    "    Variable(SIM.PVInit,'Pv Init [°C]'),\n",
    "\n",
    "    Variable(PID.OLP,'Open Loop'),\n",
    "    Variable(PID.ManFF,'Man FF'),\n",
    "\n",
    "\n",
    "    Variable(PID.Kc,'Kc PID'),\n",
    "    Variable(PID.Td,'Td PID'),\n",
    "    Variable(PID.Ti,'Ti PID'),\n",
    "    Variable(PID.gamma,'Gamma IMC'),\n",
    "\n",
    "    Variable(FF.active,'FF Enabled'),\n",
    "    Variable(FF.T1p,'TLead P(s)'),\n",
    "    Variable(FF.T2p,'TLag P(s)'),\n",
    "    Variable(FF.T1d,'TLead D(s)'),\n",
    "    Variable(FF.T2d,'TLag D(s)'),\n",
    "\n",
    "]"
   ]
  },
  {
   "cell_type": "markdown",
   "metadata": {},
   "source": [
    "## 5. Affichage du graph des signaux et bode\n",
    "\n",
    "Marche pas bien dans kernel -> MathPlotLib Ram (Fermer Alt F4 pas bouton close)"
   ]
  },
  {
   "cell_type": "code",
   "execution_count": 72,
   "metadata": {},
   "outputs": [
    {
     "ename": "ValueError",
     "evalue": "x and y must have same first dimension, but have shapes (1998,) and (0,)",
     "output_type": "error",
     "traceback": [
      "\u001b[1;31m---------------------------------------------------------------------------\u001b[0m",
      "\u001b[1;31mValueError\u001b[0m                                Traceback (most recent call last)",
      "\u001b[1;32mc:\\Users\\vicoj\\Documents\\Github\\TCLab_2023\\Simulation_CLP_PID_FF.ipynb Cellule 14\u001b[0m in \u001b[0;36m<cell line: 1>\u001b[1;34m()\u001b[0m\n\u001b[1;32m----> <a href='vscode-notebook-cell:/c%3A/Users/vicoj/Documents/Github/TCLab_2023/Simulation_CLP_PID_FF.ipynb#X16sZmlsZQ%3D%3D?line=0'>1</a>\u001b[0m G\u001b[39m.\u001b[39;49mshow([SigVals1,SigVals2,SigSave],SigValsBin,varVals)\n",
      "File \u001b[1;32mc:\\Users\\vicoj\\Documents\\Github\\TCLab_2023\\package_Class.py:469\u001b[0m, in \u001b[0;36mGraph.show\u001b[1;34m(self, signals, binSignals, varVals)\u001b[0m\n\u001b[0;32m    465\u001b[0m \u001b[39mself\u001b[39m\u001b[39m.\u001b[39max[\u001b[39m0\u001b[39m]\u001b[39m.\u001b[39mlegend(loc\u001b[39m=\u001b[39m\u001b[39m'\u001b[39m\u001b[39mbest\u001b[39m\u001b[39m'\u001b[39m)\n\u001b[0;32m    468\u001b[0m \u001b[39mfor\u001b[39;00m signal \u001b[39min\u001b[39;00m signals[\u001b[39m0\u001b[39m]:\n\u001b[1;32m--> 469\u001b[0m     \u001b[39mself\u001b[39m\u001b[39m.\u001b[39max1, \u001b[39m=\u001b[39m\u001b[39mself\u001b[39;49m\u001b[39m.\u001b[39;49max[\u001b[39m1\u001b[39;49m]\u001b[39m.\u001b[39;49mstep(\u001b[39mself\u001b[39;49m\u001b[39m.\u001b[39;49mS\u001b[39m.\u001b[39;49mt,signal\u001b[39m.\u001b[39;49mSignal,signal\u001b[39m.\u001b[39;49mcolor,linewidth\u001b[39m=\u001b[39;49m\u001b[39m2\u001b[39;49m,label\u001b[39m=\u001b[39;49msignal\u001b[39m.\u001b[39;49mname,where\u001b[39m=\u001b[39;49m\u001b[39m'\u001b[39;49m\u001b[39mpost\u001b[39;49m\u001b[39m'\u001b[39;49m)\n\u001b[0;32m    470\u001b[0m \u001b[39mself\u001b[39m\u001b[39m.\u001b[39max[\u001b[39m1\u001b[39m]\u001b[39m.\u001b[39mset_ylabel(\u001b[39m'\u001b[39m\u001b[39mTemperature [°C]\u001b[39m\u001b[39m'\u001b[39m)\n\u001b[0;32m    471\u001b[0m \u001b[39mself\u001b[39m\u001b[39m.\u001b[39max[\u001b[39m1\u001b[39m]\u001b[39m.\u001b[39mset_xlabel(\u001b[39m'\u001b[39m\u001b[39mTemps [s]\u001b[39m\u001b[39m'\u001b[39m)\n",
      "File \u001b[1;32md:\\Users\\vicoj\\anaconda3\\envs\\ControlLab\\lib\\site-packages\\matplotlib\\axes\\_axes.py:2117\u001b[0m, in \u001b[0;36mAxes.step\u001b[1;34m(self, x, y, where, data, *args, **kwargs)\u001b[0m\n\u001b[0;32m   2115\u001b[0m _api\u001b[39m.\u001b[39mcheck_in_list((\u001b[39m'\u001b[39m\u001b[39mpre\u001b[39m\u001b[39m'\u001b[39m, \u001b[39m'\u001b[39m\u001b[39mpost\u001b[39m\u001b[39m'\u001b[39m, \u001b[39m'\u001b[39m\u001b[39mmid\u001b[39m\u001b[39m'\u001b[39m), where\u001b[39m=\u001b[39mwhere)\n\u001b[0;32m   2116\u001b[0m kwargs[\u001b[39m'\u001b[39m\u001b[39mdrawstyle\u001b[39m\u001b[39m'\u001b[39m] \u001b[39m=\u001b[39m \u001b[39m'\u001b[39m\u001b[39msteps-\u001b[39m\u001b[39m'\u001b[39m \u001b[39m+\u001b[39m where\n\u001b[1;32m-> 2117\u001b[0m \u001b[39mreturn\u001b[39;00m \u001b[39mself\u001b[39m\u001b[39m.\u001b[39mplot(x, y, \u001b[39m*\u001b[39margs, data\u001b[39m=\u001b[39mdata, \u001b[39m*\u001b[39m\u001b[39m*\u001b[39mkwargs)\n",
      "File \u001b[1;32md:\\Users\\vicoj\\anaconda3\\envs\\ControlLab\\lib\\site-packages\\matplotlib\\axes\\_axes.py:1632\u001b[0m, in \u001b[0;36mAxes.plot\u001b[1;34m(self, scalex, scaley, data, *args, **kwargs)\u001b[0m\n\u001b[0;32m   1390\u001b[0m \u001b[39m\"\"\"\u001b[39;00m\n\u001b[0;32m   1391\u001b[0m \u001b[39mPlot y versus x as lines and/or markers.\u001b[39;00m\n\u001b[0;32m   1392\u001b[0m \n\u001b[1;32m   (...)\u001b[0m\n\u001b[0;32m   1629\u001b[0m \u001b[39m(``'green'``) or hex strings (``'#008000'``).\u001b[39;00m\n\u001b[0;32m   1630\u001b[0m \u001b[39m\"\"\"\u001b[39;00m\n\u001b[0;32m   1631\u001b[0m kwargs \u001b[39m=\u001b[39m cbook\u001b[39m.\u001b[39mnormalize_kwargs(kwargs, mlines\u001b[39m.\u001b[39mLine2D)\n\u001b[1;32m-> 1632\u001b[0m lines \u001b[39m=\u001b[39m [\u001b[39m*\u001b[39m\u001b[39mself\u001b[39m\u001b[39m.\u001b[39m_get_lines(\u001b[39m*\u001b[39margs, data\u001b[39m=\u001b[39mdata, \u001b[39m*\u001b[39m\u001b[39m*\u001b[39mkwargs)]\n\u001b[0;32m   1633\u001b[0m \u001b[39mfor\u001b[39;00m line \u001b[39min\u001b[39;00m lines:\n\u001b[0;32m   1634\u001b[0m     \u001b[39mself\u001b[39m\u001b[39m.\u001b[39madd_line(line)\n",
      "File \u001b[1;32md:\\Users\\vicoj\\anaconda3\\envs\\ControlLab\\lib\\site-packages\\matplotlib\\axes\\_base.py:312\u001b[0m, in \u001b[0;36m_process_plot_var_args.__call__\u001b[1;34m(self, data, *args, **kwargs)\u001b[0m\n\u001b[0;32m    310\u001b[0m     this \u001b[39m+\u001b[39m\u001b[39m=\u001b[39m args[\u001b[39m0\u001b[39m],\n\u001b[0;32m    311\u001b[0m     args \u001b[39m=\u001b[39m args[\u001b[39m1\u001b[39m:]\n\u001b[1;32m--> 312\u001b[0m \u001b[39myield from\u001b[39;00m \u001b[39mself\u001b[39;49m\u001b[39m.\u001b[39;49m_plot_args(this, kwargs)\n",
      "File \u001b[1;32md:\\Users\\vicoj\\anaconda3\\envs\\ControlLab\\lib\\site-packages\\matplotlib\\axes\\_base.py:498\u001b[0m, in \u001b[0;36m_process_plot_var_args._plot_args\u001b[1;34m(self, tup, kwargs, return_kwargs)\u001b[0m\n\u001b[0;32m    495\u001b[0m     \u001b[39mself\u001b[39m\u001b[39m.\u001b[39maxes\u001b[39m.\u001b[39myaxis\u001b[39m.\u001b[39mupdate_units(y)\n\u001b[0;32m    497\u001b[0m \u001b[39mif\u001b[39;00m x\u001b[39m.\u001b[39mshape[\u001b[39m0\u001b[39m] \u001b[39m!=\u001b[39m y\u001b[39m.\u001b[39mshape[\u001b[39m0\u001b[39m]:\n\u001b[1;32m--> 498\u001b[0m     \u001b[39mraise\u001b[39;00m \u001b[39mValueError\u001b[39;00m(\u001b[39mf\u001b[39m\u001b[39m\"\u001b[39m\u001b[39mx and y must have same first dimension, but \u001b[39m\u001b[39m\"\u001b[39m\n\u001b[0;32m    499\u001b[0m                      \u001b[39mf\u001b[39m\u001b[39m\"\u001b[39m\u001b[39mhave shapes \u001b[39m\u001b[39m{\u001b[39;00mx\u001b[39m.\u001b[39mshape\u001b[39m}\u001b[39;00m\u001b[39m and \u001b[39m\u001b[39m{\u001b[39;00my\u001b[39m.\u001b[39mshape\u001b[39m}\u001b[39;00m\u001b[39m\"\u001b[39m)\n\u001b[0;32m    500\u001b[0m \u001b[39mif\u001b[39;00m x\u001b[39m.\u001b[39mndim \u001b[39m>\u001b[39m \u001b[39m2\u001b[39m \u001b[39mor\u001b[39;00m y\u001b[39m.\u001b[39mndim \u001b[39m>\u001b[39m \u001b[39m2\u001b[39m:\n\u001b[0;32m    501\u001b[0m     \u001b[39mraise\u001b[39;00m \u001b[39mValueError\u001b[39;00m(\u001b[39mf\u001b[39m\u001b[39m\"\u001b[39m\u001b[39mx and y can be no greater than 2D, but have \u001b[39m\u001b[39m\"\u001b[39m\n\u001b[0;32m    502\u001b[0m                      \u001b[39mf\u001b[39m\u001b[39m\"\u001b[39m\u001b[39mshapes \u001b[39m\u001b[39m{\u001b[39;00mx\u001b[39m.\u001b[39mshape\u001b[39m}\u001b[39;00m\u001b[39m and \u001b[39m\u001b[39m{\u001b[39;00my\u001b[39m.\u001b[39mshape\u001b[39m}\u001b[39;00m\u001b[39m\"\u001b[39m)\n",
      "\u001b[1;31mValueError\u001b[0m: x and y must have same first dimension, but have shapes (1998,) and (0,)"
     ]
    }
   ],
   "source": [
    "G.show([SigVals1,SigVals2,SigSave],SigValsBin,varVals)"
   ]
  },
  {
   "cell_type": "code",
   "execution_count": null,
   "metadata": {},
   "outputs": [],
   "source": [
    "G.Bode(P,PID,'PID')"
   ]
  },
  {
   "cell_type": "code",
   "execution_count": null,
   "metadata": {},
   "outputs": [],
   "source": [
    "#G.Bode(P,PID,'P')"
   ]
  }
 ],
 "metadata": {
  "kernelspec": {
   "display_name": "Python 3.9.12 ('ControlLab')",
   "language": "python",
   "name": "python3"
  },
  "language_info": {
   "codemirror_mode": {
    "name": "ipython",
    "version": 3
   },
   "file_extension": ".py",
   "mimetype": "text/x-python",
   "name": "python",
   "nbconvert_exporter": "python",
   "pygments_lexer": "ipython3",
   "version": "3.9.12"
  },
  "orig_nbformat": 4,
  "vscode": {
   "interpreter": {
    "hash": "964f11a672dc231cf3d6afa8cfcc09fb72271803c34cc5ffba27a39f69ef0c50"
   }
  }
 },
 "nbformat": 4,
 "nbformat_minor": 2
}
