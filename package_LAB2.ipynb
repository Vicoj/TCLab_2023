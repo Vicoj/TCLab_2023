{
 "cells": [
  {
   "attachments": {},
   "cell_type": "markdown",
   "metadata": {},
   "source": [
    "# package_LAB2"
   ]
  },
  {
   "cell_type": "code",
   "execution_count": 1,
   "metadata": {},
   "outputs": [],
   "source": [
    "import numpy as np\n",
    "import matplotlib.pyplot as plt\n",
    "from scipy.optimize import minimize\n",
    "from matplotlib import colors as mcolors\n",
    "\n",
    "import package_DBR\n",
    "from package_DBR import SelectPath_RT,Delay_RT\n",
    "\n",
    "import package_LAB2\n",
    "from package_LAB2 import SelectPath_RT,Delay_RT,Leadlag,PID_RT, IMC_TUNNING\n",
    "\n",
    "from importlib import reload\n",
    "package_DBR=reload(package_DBR)\n",
    "package_LAB2=reload(package_LAB2)"
   ]
  },
  {
   "attachments": {},
   "cell_type": "markdown",
   "metadata": {},
   "source": [
    "## Leadlag()"
   ]
  },
  {
   "cell_type": "code",
   "execution_count": 2,
   "metadata": {},
   "outputs": [
    {
     "name": "stdout",
     "output_type": "stream",
     "text": [
      "Help on function Leadlag in module package_LAB2:\n",
      "\n",
      "Leadlag(MV, Kp, Tlead, Tlag, Ts, PV, PVInit=0, method='EBD')\n",
      "    The function \"Leadlag\" needs to be included in a \"for or while loop\".\n",
      "    \n",
      "    :MV: input vector\n",
      "    :Kp: process gain\n",
      "    :Tlead: lead time constant [s]\n",
      "    :Tlag:lag time constant [s]\n",
      "    :Ts: sampling period [s]\n",
      "    :PV: output vector\n",
      "    :PVInit: (optional: default value is 0)\n",
      "    :method: discretisation method (optional: default value is 'EBD')\n",
      "        EBD: Euler Backward difference\n",
      "        EFD: Euler Forward difference\n",
      "        TRAP: Trapezoïdal method\n",
      "    \n",
      "    The function \"FO_RT\" appends a value to the output vector \"PV\".\n",
      "    The appended value is obtained from a recurrent equation that depends on the discretisation method.\n",
      "\n"
     ]
    }
   ],
   "source": [
    "help(Leadlag)"
   ]
  },
  {
   "cell_type": "code",
   "execution_count": 3,
   "metadata": {},
   "outputs": [
    {
     "data": {
      "text/plain": [
       "(0, 100)"
      ]
     },
     "execution_count": 3,
     "metadata": {},
     "output_type": "execute_result"
    },
    {
     "data": {
      "image/png": "[encoded data removed]",
      "text/plain": [
       "<Figure size 1080x648 with 2 Axes>"
      ]
     },
     "metadata": {
      "needs_background": "light"
     },
     "output_type": "display_data"
    }
   ],
   "source": [
    "TSim = 100\n",
    "Ts = 1\n",
    "N = int(TSim/Ts) + 1\n",
    "\n",
    "# Path for MV\n",
    "MVPath = {0: 0, 5: 1, 50: 2, 80: 3, TSim: 3}\n",
    "\n",
    "t = []\n",
    "MV = []\n",
    "MVDelay = []\n",
    "PV_EBD = []\n",
    "PV_EFD = []\n",
    "PV_TRAP = []\n",
    "\n",
    "# Parameters\n",
    "Kp = 1\n",
    "Tlead = 20\n",
    "Tlag=3\n",
    "theta = 10\n",
    "\n",
    "for i in range(0,N):\n",
    "    t.append(i*Ts)\n",
    "    SelectPath_RT(MVPath,t,MV)\n",
    "    Delay_RT(MV,theta,Ts,MVDelay)\n",
    "    Leadlag(MVDelay,Kp,Tlead,Tlag,Ts,PV_EBD)\n",
    "    Leadlag(MVDelay,Kp,Tlead,Tlag,Ts,PV_EFD,0,'EFD')\n",
    "    #Leadlag(MVDelay,Kp,Tlead,Tlag,Ts,PV_TRAP,0,'TRAP')\n",
    "    \n",
    "plt.figure(figsize = (15,9))\n",
    "\n",
    "plt.subplot(2,1,1)\n",
    "plt.step(t,MV,'b-',label='MV',where='post')\n",
    "plt.step(t,MVDelay,'b-',linewidth=0.5,label='MV plus delay',where='post')\n",
    "plt.ylabel('Value of MV')\n",
    "plt.title('Lead lag plus delay response')\n",
    "plt.legend(loc='best')\n",
    "plt.xlim([0, TSim])\n",
    "\n",
    "plt.subplot(2,1,2)\n",
    "plt.step(t,PV_EBD,'g-',label='Lead lag response plus delay (EBD)',where='post')\n",
    "plt.step(t,PV_EFD,'lime',label='Lead lag response plus delay (EFD)',where='post')\n",
    "#plt.step(t,PV_TRAP,'springgreen',label='First order response plus delay (TRAP)',where='post')\n",
    "plt.ylabel('Value of PV')\n",
    "plt.xlabel('Time [s]')\n",
    "plt.legend(loc='best')\n",
    "plt.xlim([0, TSim])    "
   ]
  },
  {
   "attachments": {},
   "cell_type": "markdown",
   "metadata": {},
   "source": [
    "## PID_RT"
   ]
  },
  {
   "cell_type": "code",
   "execution_count": 4,
   "metadata": {},
   "outputs": [
    {
     "name": "stdout",
     "output_type": "stream",
     "text": [
      "Help on function PID_RT in module package_LAB2:\n",
      "\n",
      "PID_RT(SP, PV, Man, MVMan, MVFF, Kc, Ti, Td, alpha, Ts, MVMin, MVMax, MV, MVP, MVI, MVD, E, ManFF=False, PVInit=0, method='TRAP-TRAP')\n",
      "    \"\n",
      "    The function \"PID_RT3 needs to be included in a \"for or while loop\"\n",
      "    \n",
      "    :SP: SP (or SetPOint) vector\n",
      "    :PV: PV (or Process Value) vector\n",
      "    :Man: Man (or Manual controller mode) vector (True or False)\n",
      "    :MVMan: MVMan (or Manual value for MV) vector\n",
      "    :MVFF: MVFF (or Feedforward) vector\n",
      "    \n",
      "    :KC: controller gain\n",
      "    :Ti: integral time constant [s]\n",
      "    :Td: Derivative time constant [s]\n",
      "    :alpha: Tfd=alpha*Td where Thd is the derivative filter time constant[s]\n",
      "    :Ts: sampling period [s]\n",
      "    \n",
      "    :MVMin: minimum value for MV (used for saturation and anti wind-up)\n",
      "    :MVMax: maximum value for MV (used for saturation and anti wind-up)\n",
      "    \n",
      "    :MV: MV (or Manipulated Value) vector\n",
      "    :MVP: MVP (or Proportional part of MV) vector\n",
      "    :MVI: MVI (or Integral part of MV) vector\n",
      "    :MVD: MVD (or Derivative part of MV) vector\n",
      "    :E: E (or control Error) vector\n",
      "    \n",
      "    :ManFF: Activated FF in manual mode (optimal:default boolean value is False)\n",
      "    :PVInit: Initial value for PV (optional:default value is 0): used if PID_RT is ran firts in the sequence and no value of PV is available yet.\n",
      "    \n",
      "    :method: discretisation method (optional:default value is 'EBD')\n",
      "    EBD-EBD: EBD for integral action and EBD for derivative action\n",
      "    EBD-TRAP: EBD for integral action and TRAP for derivative action\n",
      "    TRAP-TRAP: TRAP for integral action and TRAP for derivative action\n",
      "    TRAP-EBD: TRAP for integral action and EBD for derivative action\n",
      "    \n",
      "    The function \"PID_RT\" appends new values to the vectors \"MV\",\"MV\",\"MVI\" and\"MVD\".\n",
      "    The appeded values are based on the PID algorithm, the controller mode, and feedforward.\n",
      "    Note that saturationof \"MV\" within the limits[MVMin,MVMax] is implemented with andi wind-up\n",
      "\n"
     ]
    }
   ],
   "source": [
    "help(PID_RT)"
   ]
  },
  {
   "cell_type": "code",
   "execution_count": 18,
   "metadata": {},
   "outputs": [
    {
     "data": {
      "text/plain": [
       "<matplotlib.legend.Legend at 0x2716d7daac8>"
      ]
     },
     "execution_count": 18,
     "metadata": {},
     "output_type": "execute_result"
    },
    {
     "data": {
      "image/png": "[encoded data removed]",
      "text/plain": [
       "<Figure size 1080x648 with 3 Axes>"
      ]
     },
     "metadata": {
      "needs_background": "light"
     },
     "output_type": "display_data"
    }
   ],
   "source": [
    "TSim = 200\n",
    "Ts = 0.1\n",
    "N = int(TSim/Ts) + 1\n",
    "\n",
    "\n",
    "t= []\n",
    "SP = []\n",
    "PV=[]\n",
    "MV=[]\n",
    "E=[]\n",
    "MVP=[]\n",
    "MVI=[]\n",
    "MVD=[]\n",
    "MVFF=[]\n",
    "Man=[]\n",
    "MVMan=[]\n",
    "\n",
    "\n",
    "SPPath={0:50, 5:60, TSim:60}\n",
    "\n",
    "PVPath={0:50, 5:50, TSim:50}\n",
    "ManPath={0:False, 100:True,125:False,TSim:False}\n",
    "MVManPath={0:50,TSim:50}\n",
    "MVFFPath={0:0,TSim:0}\n",
    "\n",
    "\n",
    "#Man= False,False #C'est moi qui ai mis cette ligne en commentaire\n",
    "Kc=1.1\n",
    "Ti=8\n",
    "Td=5\n",
    "alpha=0.5\n",
    "MVMin=0\n",
    "MVMax=100\n",
    "MVMan=[]\n",
    "\n",
    "\n",
    "# Path for MV and MVMan\n",
    "#MVPath = {0: 0, 5: 1, 50: 2, 80: 3}\n",
    "\n",
    "\n",
    "\n",
    "\n",
    "for i in range(0,N):\n",
    "    t.append(i*Ts)\n",
    "    SelectPath_RT(SPPath,t,SP)\n",
    "    SelectPath_RT(PVPath,t,PV)\n",
    "    SelectPath_RT(ManPath,t,Man)\n",
    "\n",
    "    SelectPath_RT(MVManPath,t,MVMan)\n",
    "    SelectPath_RT(MVFFPath,t,MVFF)\n",
    "    PID_RT(SP,PV,Man, MVMan, MVFF,Kc,Ti,Td,alpha,Ts, MVMin, MVMax,MV,MVP,MVI,MVD,E, ManFF=False, PVInit=0, method='EBD-EBD')\n",
    "\"\"\"\"\n",
    "plt.figure(figsize = (15,9))\n",
    "\n",
    "\n",
    "plt.step(t,MV,'y-',label='MV',where='post')\n",
    "plt.step(t,MVI,'b-',label='MVI',where='post')\n",
    "plt.step(t,MVP,'g-',label='MVP',where='post')\n",
    "plt.step(t,MVD, 'r-',label='MVD',where='post')\n",
    "plt.step(t,E,'black',label='E',where='post')\n",
    "plt.ylabel('Value of MV')\n",
    "plt.legend(loc='best')\n",
    "plt.title('Step response of the PID controller')\n",
    "plt.xlim([0, TSim])\n",
    "\"\"\"\n",
    "\n",
    "fig,(ax1,ax2,ax3)=plt.subplots(3,1)\n",
    "fig.set_figheight(9)\n",
    "fig.set_figwidth(15)\n",
    "\n",
    "l1,=ax1.step(t,MV,'y-',label='MV',where='post')\n",
    "l2,=ax1.step(t,MVI,'b-',label='MVI',where='post')\n",
    "l3,=ax1.step(t,MVP,'g-',label='MVP',where='post')\n",
    "l4,=ax1.step(t,MVD, 'r-',label='MVD',where='post')\n",
    "ax1.set_ylabel('Value of MV')\n",
    "ax1.set_title('Step response of the PID controller')\n",
    "ax1.legend(loc='best')\n",
    "\n",
    "l5,=ax2.step(t,E,'black',label='E',where='post')\n",
    "ax2.set_ylabel('Value of E')\n",
    "ax2.legend(loc='best')\n",
    "\n",
    "l6,=ax3.step(t,Man,'brown',label='Man',where='post')\n",
    "ax3.set_ylabel('Value of Man')\n",
    "ax3.set_xlabel('Value of time [s]')\n",
    "ax3.legend(loc='best')\n"
   ]
  },
  {
   "attachments": {},
   "cell_type": "markdown",
   "metadata": {},
   "source": [
    "# IMC_TUNNING"
   ]
  },
  {
   "cell_type": "code",
   "execution_count": 6,
   "metadata": {},
   "outputs": [
    {
     "name": "stdout",
     "output_type": "stream",
     "text": [
      "Help on function IMC_TUNNING in module package_LAB2:\n",
      "\n",
      "IMC_TUNNING(Kp, theta, T1, gamma, method='FOPDT')\n",
      "\n"
     ]
    }
   ],
   "source": [
    "help(IMC_TUNNING)"
   ]
  },
  {
   "cell_type": "code",
   "execution_count": 7,
   "metadata": {},
   "outputs": [
    {
     "name": "stdout",
     "output_type": "stream",
     "text": [
      "(0.86, 39)\n"
     ]
    }
   ],
   "source": [
    "Kp = 0.43\n",
    "T1 = 39\n",
    "gamma=0.5\n",
    "theta = 0\n",
    "\n",
    "\n",
    "print(IMC_TUNNING(Kp,theta,T1,gamma,method='FOPDT'))"
   ]
  }
 ],
 "metadata": {
  "kernelspec": {
   "display_name": "Python 3",
   "language": "python",
   "name": "python3"
  },
  "language_info": {
   "codemirror_mode": {
    "name": "ipython",
    "version": 3
   },
   "file_extension": ".py",
   "mimetype": "text/x-python",
   "name": "python",
   "nbconvert_exporter": "python",
   "pygments_lexer": "ipython3",
   "version": "3.7.4"
  },
  "orig_nbformat": 4
 },
 "nbformat": 4,
 "nbformat_minor": 2
}
