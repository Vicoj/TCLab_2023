{
 "cells": [
  {
   "cell_type": "markdown",
   "metadata": {},
   "source": [
    "# Compare Step responces"
   ]
  },
  {
   "cell_type": "markdown",
   "metadata": {},
   "source": []
  },
  {
   "cell_type": "code",
   "execution_count": null,
   "metadata": {},
   "outputs": [],
   "source": [
    "import pandas as pd\n",
    "import matplotlib.pyplot as plt\n",
    "import numpy as np\n",
    "import os\n",
    "\n",
    "import package_DBR\n",
    "from package_DBR import myRound, FOPDT, SOPDT, Process, Bode"
   ]
  },
  {
   "cell_type": "markdown",
   "metadata": {},
   "source": [
    "# Load data"
   ]
  },
  {
   "cell_type": "code",
   "execution_count": null,
   "metadata": {},
   "outputs": [],
   "source": [
    "Directory = 'Data/'\n",
    "\n",
    "nameFile = 'Open_loop_experiment_on_MV_2023-03-14-15h53.txt'\n",
    "\n",
    "if 'MV' in nameFile:\n",
    "    ExpVariable = 'MV'\n",
    "else:    \n",
    "    ExpVariable = 'DV'\n",
    "\n",
    "titleName = nameFile.split('.')[0]    \n",
    "data = pd.read_csv(Directory + nameFile)\n",
    "\n",
    "t = data['t'].values - data['t'].values[0]\n",
    "MV = data['MV'].values\n",
    "PV = data['PV'].values\n",
    "DV = data['DV'].values"
   ]
  },
  {
   "cell_type": "markdown",
   "metadata": {},
   "source": [
    "# Plot loaded data"
   ]
  },
  {
   "cell_type": "code",
   "execution_count": null,
   "metadata": {},
   "outputs": [],
   "source": [
    "fig, (ax1, ax2, ax3) = plt.subplots(3,1)\n",
    "fig.set_figheight(12)\n",
    "fig.set_figwidth(22)\n",
    "\n",
    "l1, = ax1.step([0,1],[0,100],'b-',linewidth=2,label='MV',where='post')\n",
    "ax1.set_ylabel('Value of MV [%]')\n",
    "ax1.set_title(titleName)\n",
    "ax1.legend(loc='best')\n",
    "\n",
    "l2, = ax2.step([0,1],[0,100],'g-',linewidth=2,label='PV',where='post')\n",
    "ax2.set_ylabel('Value of PV [°C]')\n",
    "ax2.legend(loc='best')\n",
    "\n",
    "l3, = ax3.step([0,1],[0,100],'r-',linewidth=2,label='DV',where='post')\n",
    "ax3.set_xlabel('Time [s]')\n",
    "ax3.set_ylabel('Value of DV [%]')\n",
    "ax3.legend(loc='best')\n",
    "\n",
    "l1.set_data(t,MV)\n",
    "l2.set_data(t,PV)\n",
    "l3.set_data(t,DV)\n",
    "\n",
    "ax1.set_xlim(0, t[-1]+1)\n",
    "ax2.set_xlim(0, t[-1]+1)\n",
    "ax3.set_xlim(0, t[-1]+1)\n",
    "\n",
    "ax1.set_ylim(myRound(np.min(MV),5)-5, myRound(np.max(MV),5)+5)\n",
    "ax2.set_ylim(myRound(np.min(PV),5)-5, myRound(np.max(PV),5)+5)\n",
    "ax3.set_ylim(myRound(np.min(DV),5)-5, myRound(np.max(DV),5)+5)\n",
    "\n",
    "# if not os.path.exists('Plots'):\n",
    "#     os.makedirs('Plots')\n",
    "\n",
    "# plt.savefig('Plots\\\\' + titleName + '.png',transparent=True)\n",
    "# plt.savefig('Plots\\\\' + titleName + '.pdf',transparent=True) "
   ]
  },
  {
   "cell_type": "markdown",
   "metadata": {},
   "source": [
    "# Clean data"
   ]
  },
  {
   "cell_type": "code",
   "execution_count": null,
   "metadata": {},
   "outputs": [],
   "source": [
    "if ExpVariable == 'MV':\n",
    "    tstep = np.argwhere(np.diff(MV) != 0)\n",
    "    tstep = tstep[0][0]\n",
    "    tm = t[tstep:]\n",
    "    tm = tm - tm[0]    \n",
    "    MVstep = MV[tstep + 1] - MV[tstep]\n",
    "    MVm = MV[tstep:]\n",
    "    PVm = PV[tstep:]\n",
    "    PVm = (PVm - PVm[0])/MVstep\n",
    "    MVm = (MVm - MVm[0])/MVstep    \n",
    "else:    \n",
    "    tstep = np.argwhere(np.diff(DV) != 0)\n",
    "    tstep = tstep[0][0]\n",
    "    tm = t[tstep:]\n",
    "    tm = tm - tm[0]\n",
    "    DVstep = DV[tstep + 1] - DV[tstep]    \n",
    "    DVm = DV[tstep:]\n",
    "    PVm = PV[tstep:]\n",
    "    PVm = (PVm - PVm[0])/DVstep\n",
    "    DVm = (DVm - DVm[0])/DVstep"
   ]
  },
  {
   "cell_type": "markdown",
   "metadata": {},
   "source": [
    "# Plot cleaned data"
   ]
  },
  {
   "cell_type": "code",
   "execution_count": null,
   "metadata": {},
   "outputs": [],
   "source": [
    "if ExpVariable == 'MV':\n",
    "    Input = MVm\n",
    "else:\n",
    "    Input = DVm\n",
    "    \n",
    "DInput = np.diff(Input)\n",
    "Index = np.where(np.diff(Input) != 0)[0]\n",
    "\n",
    "Input = Input[0:Index[-1]]\n",
    "Output = PVm[0:Index[-1]]\n",
    "t = tm[0:Index[-1]]\n",
    "\n",
    "fig, (ax1, ax2) = plt.subplots(2,1, gridspec_kw={'height_ratios': [1, 8]})\n",
    "fig.set_figheight(15)\n",
    "fig.set_figwidth(20)\n",
    "\n",
    "l1, = ax1.step([0,1],[0,1],'b-',linewidth=2,label='Cleaned Input (first step)',where='post')\n",
    "ax1.set_ylabel('Value of Input [%]')\n",
    "ax1.set_title(titleName)\n",
    "ax1.legend(loc='best')\n",
    "l1.set_data(t,Input)\n",
    "ax1.set_ylim(myRound(np.min(Input),1)-0.1, myRound(np.max(Input),1)+0.1)  \n",
    "\n",
    "l2, = ax2.step([0,1],[0,1],'g-',linewidth=2,label='Cleaned PV (first step)',where='post')\n",
    "ax2.set_ylabel('Value of PV [°C]')\n",
    "ax2.legend(loc='best')\n",
    "l2.set_data(t,Output)\n",
    "ax2.set_ylim(myRound(np.min(Output),0.1)-0.1, myRound(np.max(Output),0.1)+0.1)\n",
    "\n",
    "ax1.set_xlim(0, t[-1]+1)\n",
    "ax2.set_xlim(0, t[-1]+1)\n",
    "\n",
    "# Axis minor and major ticks\n",
    "multiplier = 10\n",
    "locator = plt.MultipleLocator(multiplier)\n",
    "ax1.xaxis.set_major_locator(locator)    \n",
    "ax2.xaxis.set_major_locator(locator)\n",
    "\n",
    "multiplier = 1\n",
    "locator = plt.MultipleLocator(multiplier)\n",
    "ax1.xaxis.set_minor_locator(locator)    \n",
    "ax2.xaxis.set_minor_locator(locator)    \n",
    "    \n",
    "multiplier = 0.05\n",
    "locator = plt.MultipleLocator(multiplier)\n",
    "ax2.yaxis.set_major_locator(locator)\n",
    "    \n",
    "multiplier = 0.01\n",
    "locator = plt.MultipleLocator(multiplier)\n",
    "ax2.yaxis.set_minor_locator(locator)\n",
    "\n",
    "if not os.path.exists('Plots'):\n",
    "    os.makedirs('Plots')\n",
    "\n",
    "plt.savefig('Plots\\Graphical_methods_' + titleName + '.png',transparent=True)\n",
    "plt.savefig('Plots\\Graphical_methods_' + titleName + '.pdf',transparent=True) "
   ]
  },
  {
   "cell_type": "markdown",
   "metadata": {},
   "source": [
    "# Parameters optimal FOPDT & SOPDT models"
   ]
  },
  {
   "cell_type": "code",
   "execution_count": null,
   "metadata": {},
   "outputs": [],
   "source": [
    "Kp_FOPDTOPT =  0.5508001418305712\n",
    "T_FOPDTOPT =  144.66340782080437\n",
    "theta_FOPDTOPT = 3.052784376719262\n",
    "\n",
    "Kp_SOPDTOPT = 0.519824867356309\n",
    "T1_SOPDTOPT = 130.72860133396208\n",
    "T2_SOPDTOPT = 5.242159493885901e-07\n",
    "theta_SOPDTOPT = 6.12502244580564"
   ]
  },
  {
   "cell_type": "markdown",
   "metadata": {},
   "source": [
    "# Compare step responses (experiment compared with optimal FOPDT & SOPDT)"
   ]
  },
  {
   "cell_type": "code",
   "execution_count": null,
   "metadata": {},
   "outputs": [],
   "source": [
    "PV_SOPDTOPT = SOPDT(MVm,Kp_SOPDTOPT,T1_SOPDTOPT,T2_SOPDTOPT,theta_SOPDTOPT,Ts)\n",
    "PV_FOPDTOPT = FOPDT(MVm,Kp_FOPDTOPT,T_FOPDTOPT,theta_FOPDTOPT,Ts)\n",
    "\n",
    "plt.figure(figsize = (18,12))\n",
    "\n",
    "plt.subplot(2,1,1)\n",
    "plt.step(tm,MVm,'b-',label='MV',where='post')\n",
    "plt.ylabel('Value of MV')\n",
    "plt.title('Step responses')\n",
    "plt.legend(loc='best')\n",
    "plt.xlim([0, np.max(tm)])   \n",
    "\n",
    "plt.subplot(2,1,2)\n",
    "plt.step(tm,PVm,'g-',label='Experiment',where='post')\n",
    "plt.step(tm,PV_FOPDTOPT,'cyan',label='Optimal Broida model (FOPDT)',where='post')\n",
    "plt.step(tm,PV_SOPDTOPT,'lime',label='Optimal van der Grinten model (SOPDT)',where='post')\n",
    "plt.ylabel('Value of PV')\n",
    "plt.xlabel('Time [s]')\n",
    "plt.legend(loc='best')  \n",
    "plt.xlim([0, np.max(tm)])"
   ]
  },
  {
   "cell_type": "markdown",
   "metadata": {},
   "source": [
    "# Compare Bode diagrams (optimal FOPDT & SOPDT)"
   ]
  },
  {
   "cell_type": "code",
   "execution_count": null,
   "metadata": {},
   "outputs": [],
   "source": [
    "# Frequency response\n",
    "P_FOPDTOPT = Process({})\n",
    "P_FOPDTOPT.parameters['Kp'] = Kp_FOPDTOPT\n",
    "P_FOPDTOPT.parameters['Tlag1'] = T_FOPDTOPT\n",
    "P_FOPDTOPT.parameters['theta'] = theta_FOPDTOPT\n",
    "\n",
    "# Frequency response\n",
    "P_SOPDTOPT = Process({})\n",
    "P_SOPDTOPT.parameters['Kp'] = Kp_SOPDTOPT\n",
    "P_SOPDTOPT.parameters['Tlag1'] = T1_SOPDTOPT\n",
    "P_SOPDTOPT.parameters['Tlag2'] = T2_SOPDTOPT\n",
    "P_SOPDTOPT.parameters['theta'] = theta_SOPDTOPT\n",
    "\n",
    "omega = np.logspace(-4, 1, 10000)\n",
    "Ps_FOPDTOPT = Bode(P_FOPDTOPT,omega,Show=False) # Optimal Broida\n",
    "Ps_SOPDTOPT = Bode(P_SOPDTOPT,omega,Show=False) # Optimal van der Grinten\n",
    "\n",
    "plt.figure(figsize = (18,12))\n",
    "\n",
    "plt.subplot(2,1,1)\n",
    "gain_min = np.min(20*np.log10(np.abs(Ps_FOPDTOPT)/5))\n",
    "gain_max = np.max(20*np.log10(np.abs(Ps_FOPDTOPT)*5))\n",
    "plt.semilogx(omega,20*np.log10(np.abs(Ps_FOPDTOPT)),'cyan',linewidth=2,label='Optimal Broida model (FOPDT)')\n",
    "plt.semilogx(omega,20*np.log10(np.abs(Ps_SOPDTOPT)),'lime',linewidth=2,label='Optimal van der Grinten model (SOPDT)')\n",
    "plt.xlim([np.min(omega), np.max(omega)])\n",
    "plt.ylim([gain_min, gain_max])\n",
    "plt.ylabel('Amplitude [db]')\n",
    "plt.title('Bode plot')\n",
    "plt.legend(loc='best')\n",
    "\n",
    "plt.subplot(2,1,2)\n",
    "ph_min = np.min((180/np.pi)*np.unwrap(np.angle(Ps_FOPDTOPT))) - 10\n",
    "ph_max = np.max((180/np.pi)*np.unwrap(np.angle(Ps_FOPDTOPT))) + 10\n",
    "plt.semilogx(omega, (180/np.pi)*np.unwrap(np.angle(Ps_FOPDTOPT)),'cyan',linewidth=2)\n",
    "plt.semilogx(omega, (180/np.pi)*np.unwrap(np.angle(Ps_SOPDTOPT)),'lime',linewidth=2)\n",
    "plt.xlim([np.min(omega), np.max(omega)])\n",
    "plt.ylim([np.max([ph_min, -200]), ph_max])\n",
    "plt.ylabel('Phase [°]')"
   ]
  }
 ],
 "metadata": {
  "kernelspec": {
   "display_name": "Python 3.9.12 ('ControlLab')",
   "language": "python",
   "name": "python3"
  },
  "language_info": {
   "name": "python",
   "version": "3.9.12"
  },
  "orig_nbformat": 4,
  "vscode": {
   "interpreter": {
    "hash": "964f11a672dc231cf3d6afa8cfcc09fb72271803c34cc5ffba27a39f69ef0c50"
   }
  }
 },
 "nbformat": 4,
 "nbformat_minor": 2
}
