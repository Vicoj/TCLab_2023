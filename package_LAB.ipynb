{
 "cells": [
  {
   "cell_type": "markdown",
   "metadata": {},
   "source": [
    "# Functions du programme Open Loop sans FeedForward"
   ]
  },
  {
   "cell_type": "markdown",
   "metadata": {},
   "source": [
    "## 1. Import"
   ]
  },
  {
   "cell_type": "code",
   "execution_count": 100,
   "metadata": {},
   "outputs": [],
   "source": [
    "from signal import signal\n",
    "from tokenize import Single\n",
    "import numpy as np\n",
    "from scipy.optimize import minimize\n",
    "from matplotlib import colors as mcolors\n",
    "\n",
    "%matplotlib qt\n",
    "import matplotlib.pyplot as plt\n",
    "\n",
    "from matplotlib.widgets import Slider, Button, RadioButtons,TextBox,CheckButtons\n",
    "import matplotlib.patches as mpatches\n",
    "import datetime\n",
    "import os\n",
    "import tclab\n",
    "import time\n",
    "\n",
    "from xmlrpc.client import Boolean\n",
    "import numpy as np\n",
    "\n",
    "from IPython.display import display, clear_output\n",
    "\n",
    "import package_Class\n",
    "from package_Class import Simulation,Path,FirstOrder,SecondOrderPlusDelay,LeadLag,FeedForward,PID_Controller,Delay,Signal,Variable,Graph,LabValues"
   ]
  },
  {
   "cell_type": "markdown",
   "metadata": {},
   "source": [
    "## 2. Création Instance Classe simulation \n",
    "Va prendre les param commun a toutes les classes"
   ]
  },
  {
   "cell_type": "code",
   "execution_count": 101,
   "metadata": {},
   "outputs": [
    {
     "name": "stderr",
     "output_type": "stream",
     "text": [
      " [elapsed time: 0:00:00] |                                  | (ETA:  --:--:--) "
     ]
    }
   ],
   "source": [
    "SIM = Simulation(2000,1,26,True,'Simulation_OPL_PID_FF')\n",
    "#help(SIM)"
   ]
  },
  {
   "cell_type": "markdown",
   "metadata": {},
   "source": [
    "## 3. Création Instance Classe Graph\n",
    "Classe servant a l'affichage des valeurs calculées "
   ]
  },
  {
   "cell_type": "code",
   "execution_count": 102,
   "metadata": {},
   "outputs": [],
   "source": [
    "G = Graph(SIM,'PID_Control_')\n",
    "#help(G)"
   ]
  },
  {
   "cell_type": "markdown",
   "metadata": {},
   "source": [
    "## 4. Création Instance Classe Path\n",
    "Decrit les chemin des signeaux en entrée"
   ]
  },
  {
   "cell_type": "code",
   "execution_count": 103,
   "metadata": {},
   "outputs": [],
   "source": [
    "SP = Path(SIM,{0:30 , 1000:70 , SIM.TSim: 70})\n",
    "DV = Path(SIM,{0: 50 ,1500:70 ,SIM.TSim: 70})\n",
    "MAN = Path(SIM,{0: 0, SIM.TSim: 0})\n",
    "MANV = Path(SIM,{0: 50, SIM.TSim: 50})\n",
    "#help(SP)"
   ]
  },
  {
   "cell_type": "markdown",
   "metadata": {},
   "source": [
    "## 5. Création Instance Classe FirstOrder\n",
    "Prossesus P(s) et D(s) du premier degrée avec leurs paramètres \n"
   ]
  },
  {
   "cell_type": "code",
   "execution_count": 104,
   "metadata": {},
   "outputs": [],
   "source": [
    "P = FirstOrder(SIM,0.6576982674557728,201.32536449625266,1.0000492683893498,50,SIM.PVInit)\n",
    "D = FirstOrder(SIM,0.4022800628236135,151.76786567122514,28.926501641455957,50,0)\n",
    "#help(P)"
   ]
  },
  {
   "cell_type": "markdown",
   "metadata": {},
   "source": [
    "## 6. Création Instance Classe FeedForward\n",
    "Prend les prossesus P(s) et D(s) en entrée "
   ]
  },
  {
   "cell_type": "code",
   "execution_count": 105,
   "metadata": {},
   "outputs": [],
   "source": [
    "FF = FeedForward(SIM,P,D,True)\n",
    "#help(FF)"
   ]
  },
  {
   "cell_type": "markdown",
   "metadata": {},
   "source": [
    "## 7. Création Instance Classe PID_Controller + IMC methode\n",
    "Creation instace PID et execution de la methode IMC"
   ]
  },
  {
   "cell_type": "code",
   "execution_count": 106,
   "metadata": {},
   "outputs": [],
   "source": [
    "PID = PID_Controller(SIM,2,180,10,6,0,100,False,False)\n",
    "#PID.IMC_tuning(P,0.2,'H')\n",
    "#help(PID)"
   ]
  },
  {
   "cell_type": "markdown",
   "metadata": {},
   "source": [
    "## 8. Boucle pour une simulation / Experience\n",
    "Si la variable SIM.sim de la simulation est vrais.\n",
    "Class.RT calcule les valeurs du bloc en instantanée"
   ]
  },
  {
   "cell_type": "code",
   "execution_count": 107,
   "metadata": {},
   "outputs": [
    {
     "name": "stderr",
     "output_type": "stream",
     "text": [
      " [elapsed time: 0:00:01] |████████████████████████████████  | (ETA:   0:00:00) "
     ]
    }
   ],
   "source": [
    "if(SIM.sim == True):\n",
    "    t = []\n",
    "    for ti in SIM.t:\n",
    "        t.append(ti)\n",
    "        #Signals\n",
    "        SP.RT(t)    # On crée le Set point\n",
    "        DV.RT(t)    # On crée le Disturbance Load\n",
    "        MAN.RT(t)\n",
    "        MANV.RT(t)\n",
    "\n",
    "        FF.RT(DV.Signal) # FeedForward\n",
    "        PID.RT(SP.Signal,SIM.PV,MAN.Signal,MANV.Signal,FF.MVFF,'EBD-EBD')\n",
    "\n",
    "        SIM.addMV(PID.MVFB,FF.MVFF) # Modified Value\n",
    "\n",
    "        P.RT(SIM.MV,'EBD')\n",
    "        D.RT(DV.Signal,'EBD')\n",
    "        SIM.PV.append(P.PV[-1]+D.PV[-1]) # Point Value\n",
    "        SIM.updateBar()\n"
   ]
  },
  {
   "cell_type": "markdown",
   "metadata": {},
   "source": [
    "Si la variable SIM.sim de la simulation est fausse alors ouvre la connection TcLab "
   ]
  },
  {
   "cell_type": "code",
   "execution_count": 108,
   "metadata": {},
   "outputs": [],
   "source": [
    "if(SIM.sim == False):\n",
    "    #Tc Lab\n",
    "    LAB = tclab.TCLab()\n",
    "    LABVal = LabValues(SIM,LAB)\n",
    "\n",
    "    SIM.t = []\n",
    "    start = time.time()\n",
    "    delta = 0\n",
    "    totalTime = 0\n",
    "    last = time.time()\n",
    "\n",
    "    while totalTime < SIM.TSim:\n",
    "        if delta > SIM.Ts:\n",
    "            last = time.time()\n",
    "            SIM.t.append(round(totalTime,4))\n",
    "            #Signals\n",
    "            SP.RT(SIM.t)\n",
    "            DV.RT(SIM.t)\n",
    "            MAN.RT(SIM.t)\n",
    "            MANV.RT(SIM.t)\n",
    "\n",
    "            FF.RT(DV.Signal) # FeedForward\n",
    "            PID.RT(SP.Signal,SIM.PV,MAN.Signal,MANV.Signal,FF.MVFF,'EBD-EBD')\n",
    "\n",
    "            SIM.addMV(PID.MVFB,FF.MVFF) # Modified Value\n",
    "\n",
    "            LABVal.RT(SIM.MV,DV.Signal,D.point_fct)\n",
    "            delta = 0\n",
    "            SIM.updateBar()\n",
    "\n",
    "        else :\n",
    "            totalTime = time.time() - start\n",
    "            delta = time.time() - last\n",
    "    LAB.close()\n",
    "        "
   ]
  },
  {
   "cell_type": "markdown",
   "metadata": {},
   "source": [
    "## 9. On cree des liste d'instances Signal que l'on veux afficher \n",
    "Il suffit de mettre en commentaire ou rajouter pour les afficher"
   ]
  },
  {
   "cell_type": "code",
   "execution_count": 109,
   "metadata": {},
   "outputs": [],
   "source": [
    "# Signaux Afficher dans  Graph Binaires\n",
    "SigValsBin = [\n",
    "    Signal(MAN.Signal,'Manual Mode','-g')\n",
    "]\n",
    "\n",
    "# Signaux Afficher dans  Graph 1 : Temperature\n",
    "SigVals1 = [\n",
    "    Signal(SP.Signal,'SP','-r'),\n",
    "    Signal(SIM.PV,'PV','-b'),\n",
    "    #Signal(P.PV,'P(s)','--b'),\n",
    "    #Signal(D.PV,'D(s)','--k'),\n",
    "]\n",
    "\n",
    "# Signaux Afficher dans Graph 2 : % de chauffe\n",
    "SigVals2 = [\n",
    "    Signal(SIM.MV,'MV','-b'),\n",
    "    Signal(DV.Signal,'DV','-k'),\n",
    "    #Signal(MANV.Signal,'MANVal','-m'),\n",
    "    #Signal(FF.MVFF,'MVFF','-g'),\n",
    "    #Signal(PID.MVFB,'MVFB','-y'),\n",
    "    #Signal(PID.E,'E',':r'),\n",
    "    #Signal(PID.MVP,'MVP',':g'),\n",
    "    #Signal(PID.MVI,'MVI',':y'),\n",
    "    #Signal(PID.MVD,'MVD',':m'),\n",
    "    #Signal(DV.Signal,'DV','-k'),\n",
    "]\n",
    "\n",
    "# Signaux enregistrer dans le .txt\n",
    "SigSave = [\n",
    "    Signal(SIM.MV,'MV','-b'),\n",
    "    Signal(PID.MVP,'MVP',':b'),\n",
    "    Signal(PID.MVI,'MVI',':y'),\n",
    "    Signal(PID.MVD,'MVD',':m'),\n",
    "    Signal(SP.Signal,'SP',':m'),\n",
    "    Signal(SIM.PV,'PV',':m'),\n",
    "    Signal(DV.Signal,'DV','-k'),\n",
    "    Signal(MAN.Signal,'Man','-k'),\n",
    "]\n",
    "\n",
    "# Variables affichées sur le graph\n",
    "varVals = [\n",
    "    Variable(SIM.TSim,'Temps Sim [s]'),\n",
    "    Variable(SIM.Ts,'Sampling [s]'),\n",
    "    Variable(SIM.PVInit,'Pv Init [°C]'),\n",
    "\n",
    "    Variable(PID.OLP,'Open Loop'),\n",
    "    Variable(PID.ManFF,'Man FF'),\n",
    "\n",
    "\n",
    "    Variable(PID.Kc,'Kc PID'),\n",
    "    Variable(PID.Td,'Td PID'),\n",
    "    Variable(PID.Ti,'Ti PID'),\n",
    "    Variable(PID.gamma,'Gamma IMC'),\n",
    "\n",
    "    Variable(FF.active,'FF Enabled'),\n",
    "    Variable(FF.T1p,'TLead P(s)'),\n",
    "    Variable(FF.T2p,'TLag P(s)'),\n",
    "    Variable(FF.T1d,'TLead D(s)'),\n",
    "    Variable(FF.T2d,'TLag D(s)'),\n",
    "\n",
    "]"
   ]
  },
  {
   "cell_type": "markdown",
   "metadata": {},
   "source": [
    "## 10. Affichage du graph des signaux et bode\n",
    "\n",
    "Marche pas bien dans kernel -> MathPlotLib Ram"
   ]
  },
  {
   "cell_type": "code",
   "execution_count": 110,
   "metadata": {},
   "outputs": [],
   "source": [
    "G.show([SigVals1,SigVals2,SigSave],SigValsBin,varVals)"
   ]
  },
  {
   "cell_type": "code",
   "execution_count": 111,
   "metadata": {},
   "outputs": [],
   "source": [
    "#G.Bode(P,PID,'PID')"
   ]
  },
  {
   "cell_type": "code",
   "execution_count": 112,
   "metadata": {},
   "outputs": [],
   "source": [
    "#G.Bode(P,PID,'P')"
   ]
  }
 ],
 "metadata": {
  "kernelspec": {
   "display_name": "Python 3.9.12 ('ControlLab')",
   "language": "python",
   "name": "python3"
  },
  "language_info": {
   "codemirror_mode": {
    "name": "ipython",
    "version": 3
   },
   "file_extension": ".py",
   "mimetype": "text/x-python",
   "name": "python",
   "nbconvert_exporter": "python",
   "pygments_lexer": "ipython3",
   "version": "3.9.12"
  },
  "orig_nbformat": 4,
  "vscode": {
   "interpreter": {
    "hash": "964f11a672dc231cf3d6afa8cfcc09fb72271803c34cc5ffba27a39f69ef0c50"
   }
  }
 },
 "nbformat": 4,
 "nbformat_minor": 2
}
